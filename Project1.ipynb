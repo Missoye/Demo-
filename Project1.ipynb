{
  "nbformat": 4,
  "nbformat_minor": 0,
  "metadata": {
    "colab": {
      "provenance": []
    },
    "kernelspec": {
      "name": "python3",
      "display_name": "Python 3"
    },
    "language_info": {
      "name": "python"
    }
  },
  "cells": [
    {
      "cell_type": "markdown",
      "source": [
        "Find the sum of the digits of a user-inputted number.\n"
      ],
      "metadata": {
        "id": "h3mWY6xJ8h-L"
      }
    },
    {
      "cell_type": "code",
      "source": [
        "x=int(input('enter first digit: '))\n",
        "y=int(input('enter second digit: '))\n",
        "print(x+y)"
      ],
      "metadata": {
        "colab": {
          "base_uri": "https://localhost:8080/"
        },
        "id": "dknT7xve8rME",
        "outputId": "1b8b45c7-c851-4b34-da4b-c71d96b82888"
      },
      "execution_count": null,
      "outputs": [
        {
          "output_type": "stream",
          "name": "stdout",
          "text": [
            "enter first digit: 5\n",
            "enter second digit: 6\n",
            "11\n"
          ]
        }
      ]
    },
    {
      "cell_type": "markdown",
      "source": [
        "4. Check if a number is even or odd"
      ],
      "metadata": {
        "id": "MZPNqny58sP6"
      }
    },
    {
      "cell_type": "code",
      "source": [
        "n=int(input('enter prefered value: '))\n",
        "if n%2==0:\n",
        "  print('the number is even')\n",
        "else:\n",
        "  print(\"the number is odd\")\n"
      ],
      "metadata": {
        "colab": {
          "base_uri": "https://localhost:8080/"
        },
        "id": "oj5ELLwm9u1x",
        "outputId": "b4c931f9-b28a-47a0-b998-1e0a904ccfc7"
      },
      "execution_count": null,
      "outputs": [
        {
          "output_type": "stream",
          "name": "stdout",
          "text": [
            "enter prefered value: 39\n",
            "the number is odd\n"
          ]
        }
      ]
    },
    {
      "cell_type": "markdown",
      "source": [
        "Write a program to count the number of factors a number has."
      ],
      "metadata": {
        "id": "x0eiH2LB_HXQ"
      }
    },
    {
      "cell_type": "code",
      "source": [
        "num=int(input('enter value: '))\n",
        "l=[i for i in range(1,num+1) if num%i==0]\n",
        "len(l)"
      ],
      "metadata": {
        "colab": {
          "base_uri": "https://localhost:8080/"
        },
        "id": "noPuVDvd_JHi",
        "outputId": "e07857d9-f857-4bb4-91a5-ae0870a8774c"
      },
      "execution_count": null,
      "outputs": [
        {
          "name": "stdout",
          "output_type": "stream",
          "text": [
            "enter value: 180\n"
          ]
        },
        {
          "output_type": "execute_result",
          "data": {
            "text/plain": [
              "18"
            ]
          },
          "metadata": {},
          "execution_count": 9
        }
      ]
    },
    {
      "cell_type": "markdown",
      "source": [
        "Write a function to calculate the LCM of two numbers.\n"
      ],
      "metadata": {
        "id": "_QI4Hmo-CtJb"
      }
    },
    {
      "cell_type": "code",
      "source": [
        "def LCM():\n",
        "  no=int(input('enter number 1: '))\n",
        "  no2=int(input('2nd number please: '))\n",
        "  l1=[i for i in range(1,no+1) if no%i==0]\n",
        "  l2=[i for i in range(1,no2+1) if no2%i==0]\n",
        "  l3=[i for i in l1 if i in l2]\n",
        "  return l3"
      ],
      "metadata": {
        "id": "GNWeQFdACbN6"
      },
      "execution_count": null,
      "outputs": []
    },
    {
      "cell_type": "code",
      "source": [
        "LCM()"
      ],
      "metadata": {
        "colab": {
          "base_uri": "https://localhost:8080/"
        },
        "id": "NmIP_uD3GH5R",
        "outputId": "d2c3586d-3dc2-488f-adaf-db7583043332"
      },
      "execution_count": null,
      "outputs": [
        {
          "name": "stdout",
          "output_type": "stream",
          "text": [
            "enter number 1: 48\n",
            "2nd number please: 39\n"
          ]
        },
        {
          "output_type": "execute_result",
          "data": {
            "text/plain": [
              "[1, 3]"
            ]
          },
          "metadata": {},
          "execution_count": 19
        }
      ]
    },
    {
      "cell_type": "markdown",
      "source": [
        "Create a program to find all pairs of numbers in a list that add up to a specified sum.\n",
        "\n",
        "\n",
        "\n"
      ],
      "metadata": {
        "id": "SG9l59XvIYNv"
      }
    },
    {
      "cell_type": "code",
      "source": [
        "def summation(n):\n",
        "  list_num=list(range(1,n))\n",
        "  list_num_true=[]\n",
        "  for m in list_num:\n",
        "    for p in list_num:\n",
        "      if m+p==n and m<=p:\n",
        "        list_num_true.append((m,p))\n",
        "  return list_num_true"
      ],
      "metadata": {
        "id": "ZtzU95fEIfF9"
      },
      "execution_count": null,
      "outputs": []
    },
    {
      "cell_type": "code",
      "source": [
        "summation(6)"
      ],
      "metadata": {
        "colab": {
          "base_uri": "https://localhost:8080/"
        },
        "id": "fQibtvSxO2Ra",
        "outputId": "d923dfa0-30c2-453f-b824-ab43b8dad63d"
      },
      "execution_count": null,
      "outputs": [
        {
          "output_type": "execute_result",
          "data": {
            "text/plain": [
              "[(1, 5), (2, 4), (3, 3)]"
            ]
          },
          "metadata": {},
          "execution_count": 29
        }
      ]
    },
    {
      "cell_type": "markdown",
      "source": [
        " Generate the first n prime numbers"
      ],
      "metadata": {
        "id": "PZMP-D5IUIDF"
      }
    },
    {
      "cell_type": "code",
      "source": [
        "n=6\n",
        "pri=[]\n",
        "i=2\n",
        "while len(pri)<n:\n",
        "  list_i=list(range(2,i))\n",
        "  list_2=[j for j in list_i if i%j==0]\n",
        "  if len(list_2)==0:\n",
        "    pri.append(i)\n",
        "  i+=1\n",
        "pri\n"
      ],
      "metadata": {
        "id": "lqt2-bZbO7K-",
        "colab": {
          "base_uri": "https://localhost:8080/"
        },
        "outputId": "53539983-4d3c-443b-d720-b6e0e63f2e6a"
      },
      "execution_count": null,
      "outputs": [
        {
          "output_type": "execute_result",
          "data": {
            "text/plain": [
              "[2, 3, 5, 7, 11, 13]"
            ]
          },
          "metadata": {},
          "execution_count": 10
        }
      ]
    },
    {
      "cell_type": "markdown",
      "source": [
        ". Write a function that returns the nth term of the Fibonacci sequence using dynamic\n",
        "programming."
      ],
      "metadata": {
        "id": "0X2t8yK22Dji"
      }
    },
    {
      "cell_type": "code",
      "source": [
        "def fibo(n):\n",
        " if n==0:\n",
        "    return 0\n",
        " elif n==1 or n==2:\n",
        "    return 1\n",
        " else:\n",
        "\n",
        "\n"
      ],
      "metadata": {
        "id": "XKEm6HXP1Fsc"
      },
      "execution_count": null,
      "outputs": []
    },
    {
      "cell_type": "markdown",
      "source": [],
      "metadata": {
        "id": "XVCr_ML2arJC"
      }
    }
  ]
}